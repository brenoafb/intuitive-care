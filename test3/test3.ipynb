{
 "cells": [
  {
   "cell_type": "code",
   "execution_count": 1,
   "metadata": {},
   "outputs": [],
   "source": [
    "import psycopg2\n",
    "from os import listdir"
   ]
  },
  {
   "cell_type": "code",
   "execution_count": 2,
   "metadata": {},
   "outputs": [],
   "source": [
    "DB = 'test'\n",
    "USER = 'breno'\n",
    "PORT = 5433  # typically 5432"
   ]
  },
  {
   "cell_type": "code",
   "execution_count": 4,
   "metadata": {},
   "outputs": [],
   "source": [
    "def startup(database, user, port):\n",
    "    conn = psycopg2.connect(database=database, user=user, port=port)\n",
    "    cur = conn.cursor()\n",
    "    return (conn, cur)\n",
    "\n",
    "(conn, cur) = startup(DB, USER, PORT)"
   ]
  },
  {
   "cell_type": "markdown",
   "metadata": {},
   "source": [
    "Next we create the tables according to the formats\n",
    "found in the CSV files."
   ]
  },
  {
   "cell_type": "code",
   "execution_count": 6,
   "metadata": {},
   "outputs": [],
   "source": [
    "def create_accounting_table(conn, cur):\n",
    "    create_accounting_table_query = (\n",
    "    '''\n",
    "    CREATE TABLE accounting (\n",
    "        data DATE,\n",
    "        reg_ans INT,\n",
    "        cd_conta_contabil INT,\n",
    "        descricao VARCHAR(255),\n",
    "        vl_saldo_final FLOAT\n",
    "        );\n",
    "    '''\n",
    "    )\n",
    "    cur.execute('set datestyle to iso;')\n",
    "    cur.execute(create_accounting_table_query)\n",
    "    conn.commit()\n",
    "    \n",
    "def create_companies_table(conn, cur):\n",
    "    create_companies_table_query = (\n",
    "    '''\n",
    "    CREATE TABLE companies (\n",
    "        reg_ans INT,\n",
    "        cnpj VARCHAR(15),\n",
    "        razao_social VARCHAR(255),\n",
    "        nome_fantasia VARCHAR(255),\n",
    "        modalidade VARCHAR(255),\n",
    "        logradouro VARCHAR(255),\n",
    "        numero VARCHAR(255),\n",
    "        complemento VARCHAR(255),\n",
    "        bairro VARCHAR(255),\n",
    "        cidade VARCHAR(255),\n",
    "        uf VARCHAR(255),\n",
    "        cep VARCHAR(255),\n",
    "        ddd VARCHAR(255),\n",
    "        telefone VARCHAR(255),\n",
    "        fax VARCHAR(255),\n",
    "        email VARCHAR(255),\n",
    "        representante VARCHAR(255),\n",
    "        cargo_representante VARCHAR(255),\n",
    "        data_registro_ans date\n",
    "        );\n",
    "    '''\n",
    "    )\n",
    "    cur.execute('set datestyle to dmy;')\n",
    "    cur.execute(create_companies_table_query)\n",
    "    conn.commit()\n",
    "\n",
    "\n",
    "def create_tables(conn, cur,):\n",
    "    create_accounting_table(conn, cur)\n",
    "    create_companies_table(conn, cur)"
   ]
  },
  {
   "cell_type": "code",
   "execution_count": null,
   "metadata": {},
   "outputs": [],
   "source": [
    "# only run this if the tables have not been created already\n",
    "create_tables(conn_cur)"
   ]
  },
  {
   "cell_type": "markdown",
   "metadata": {},
   "source": [
    "We now need to read the provided CSVs into the tables."
   ]
  },
  {
   "cell_type": "code",
   "execution_count": 7,
   "metadata": {},
   "outputs": [],
   "source": [
    "def load_csvs(conn, cur, dir, companies_csv):\n",
    "    filenames = [dir + filename for filename in listdir(dir)]\n",
    "    copy_csv_query = (lambda table, filename:\n",
    "    '''COPY {}\n",
    "    FROM \\'{}\\'\n",
    "    DELIMITER \\';\\'\n",
    "    ENCODING \\'latin1\\'\n",
    "    CSV HEADER;\n",
    "    '''.format(table, filename)\n",
    "    )\n",
    "\n",
    "    cur.execute(copy_csv_query('companies', companies_csv))\n",
    "\n",
    "    for filename in filenames:\n",
    "        cur.execute(copy_csv_query('accounting', filename))\n",
    "    conn.commit()"
   ]
  },
  {
   "cell_type": "code",
   "execution_count": null,
   "metadata": {},
   "outputs": [],
   "source": [
    "# only run this if data has not been loaded\n",
    "# check the filenames\n",
    "dir = '/Users/breno/Documents/intuitive-care/test3/'\n",
    "companies_csv = dir + 'Relatorio_cadop-2.csv'\n",
    "load_csvs(conn, cur, dir + 'processed_data', companies_csv)"
   ]
  },
  {
   "cell_type": "code",
   "execution_count": 8,
   "metadata": {},
   "outputs": [],
   "source": [
    "def fetch_results(description, start_date, end_date):\n",
    "    query = (\n",
    "    '''\n",
    "    select reg_ans,\n",
    "    sum (vl_saldo_final)\n",
    "    from accounting\n",
    "    where descricao=\\'{}\\'\n",
    "    and data >= \\'{}\\'\n",
    "    and data <  \\'{}\\'\n",
    "    group by reg_ans\n",
    "    order by sum (vl_saldo_final) desc;\n",
    "    '''.format(description, start_date, end_date)\n",
    "    )\n",
    "\n",
    "    cur.execute(query)\n",
    "    results = cur.fetchall()\n",
    "    return results"
   ]
  },
  {
   "cell_type": "code",
   "execution_count": 13,
   "metadata": {},
   "outputs": [],
   "source": [
    "def fetch_companies(results):\n",
    "    tuples = []\n",
    "    for (code, value) in results:\n",
    "        query = (\n",
    "            'select razao_social from companies where reg_ans={};'\n",
    "            .format(code)\n",
    "        )\n",
    "        cur.execute(query)\n",
    "        fetch = cur.fetchone()\n",
    "        name = fetch[0] if fetch else fetch\n",
    "        tuples.append((name, code, value))\n",
    "    return tuples"
   ]
  },
  {
   "cell_type": "code",
   "execution_count": 15,
   "metadata": {},
   "outputs": [
    {
     "data": {
      "text/plain": [
       "[('BRADESCO SAÚDE S.A.', 5711, 29238637561.909996),\n",
       " ('AMIL ASSISTÊNCIA MÉDICA INTERNACIONAL S.A.', 326305, 22239265407.1),\n",
       " ('SUL AMERICA COMPANHIA DE SEGURO SAÚDE', 6246, 19134861006.79),\n",
       " ('NOTRE DAME INTERMÉDICA SAÚDE S.A.', 359017, 8717609226.0),\n",
       " ('CAIXA DE ASSISTÊNCIA DOS FUNCIONÁRIOS DO BANCO DO BRASIL',\n",
       "  346659,\n",
       "  6701591952.42),\n",
       " ('CENTRAL NACIONAL UNIMED - COOPERATIVA CENTRAL', 339679, 5532110614.25),\n",
       " ('UNIMED-RIO COOPERATIVA DE TRABALHO MEDICO DO RIO DE JANEIRO',\n",
       "  393321,\n",
       "  5449561080.42),\n",
       " ('HAPVIDA ASSISTENCIA MEDICA LTDA', 368253, 5296308468.6),\n",
       " ('UNIMED BELO HORIZONTE COOPERATIVA DE TRABALHO MÉDICO',\n",
       "  343889,\n",
       "  4305426998.96),\n",
       " ('GEAP AUTOGESTÃO EM SAÚDE', 323080, 4262564672.2299995)]"
      ]
     },
     "execution_count": 15,
     "metadata": {},
     "output_type": "execute_result"
    }
   ],
   "source": [
    "# First query: over the last year\n",
    "description = 'EVENTOS/ SINISTROS CONHECIDOS OU AVISADOS  DE ASSISTÊNCIA A SAÚDE MEDICO HOSPITALAR '\n",
    "start_date = '2020-01-01'\n",
    "end_date = '2021-01-01'\n",
    "results = fetch_results(description, start_date, end_date)[:10]\n",
    "companies = fetch_companies(results)\n",
    "companies"
   ]
  },
  {
   "cell_type": "code",
   "execution_count": 16,
   "metadata": {},
   "outputs": [
    {
     "data": {
      "text/plain": [
       "[('BRADESCO SAÚDE S.A.', 5711, 14689350312.67),\n",
       " ('AMIL ASSISTÊNCIA MÉDICA INTERNACIONAL S.A.', 326305, 10928531414.16),\n",
       " ('SUL AMERICA COMPANHIA DE SEGURO SAÚDE', 6246, 9498661307.980001),\n",
       " ('NOTRE DAME INTERMÉDICA SAÚDE S.A.', 359017, 4402526741.07),\n",
       " ('CAIXA DE ASSISTÊNCIA DOS FUNCIONÁRIOS DO BANCO DO BRASIL',\n",
       "  346659,\n",
       "  3337556927.0299997),\n",
       " ('CENTRAL NACIONAL UNIMED - COOPERATIVA CENTRAL', 339679, 2770465180.87),\n",
       " ('UNIMED-RIO COOPERATIVA DE TRABALHO MEDICO DO RIO DE JANEIRO',\n",
       "  393321,\n",
       "  2754253192.49),\n",
       " ('HAPVIDA ASSISTENCIA MEDICA LTDA', 368253, 2629132597.67),\n",
       " ('UNIMED BELO HORIZONTE COOPERATIVA DE TRABALHO MÉDICO',\n",
       "  343889,\n",
       "  2211589474.53),\n",
       " ('GEAP AUTOGESTÃO EM SAÚDE', 323080, 2062436242.8999999)]"
      ]
     },
     "execution_count": 16,
     "metadata": {},
     "output_type": "execute_result"
    }
   ],
   "source": [
    "# Second query: over the last trimester\n",
    "description = 'EVENTOS/ SINISTROS CONHECIDOS OU AVISADOS  DE ASSISTÊNCIA A SAÚDE MEDICO HOSPITALAR '\n",
    "start_date = '2020-07-01'\n",
    "end_date = '2021-10-01'\n",
    "results = fetch_results(description, start_date, end_date)[:10]\n",
    "companies = fetch_companies(results)\n",
    "companies"
   ]
  }
 ],
 "metadata": {
  "kernelspec": {
   "display_name": "Python 3",
   "language": "python",
   "name": "python3"
  },
  "language_info": {
   "codemirror_mode": {
    "name": "ipython",
    "version": 3
   },
   "file_extension": ".py",
   "mimetype": "text/x-python",
   "name": "python",
   "nbconvert_exporter": "python",
   "pygments_lexer": "ipython3",
   "version": "3.9.1"
  }
 },
 "nbformat": 4,
 "nbformat_minor": 4
}
