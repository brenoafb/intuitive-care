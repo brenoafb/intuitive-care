{
 "cells": [
  {
   "cell_type": "code",
   "execution_count": 1,
   "metadata": {},
   "outputs": [],
   "source": [
    "import psycopg2\n",
    "from os import listdir"
   ]
  },
  {
   "cell_type": "code",
   "execution_count": 2,
   "metadata": {},
   "outputs": [],
   "source": [
    "DB = 'test3'\n",
    "USER = 'breno'\n",
    "PORT = 5433  # typically 5432"
   ]
  },
  {
   "cell_type": "code",
   "execution_count": 3,
   "metadata": {},
   "outputs": [],
   "source": [
    "def startup(database, user, port):\n",
    "    conn = psycopg2.connect(database=database, user=user, port=port)\n",
    "    cur = conn.cursor()\n",
    "    return (conn, cur)\n",
    "\n",
    "(conn, cur) = startup(DB, USER, PORT)"
   ]
  },
  {
   "cell_type": "markdown",
   "metadata": {},
   "source": [
    "Next we create the tables according to the formats\n",
    "found in the CSV files."
   ]
  },
  {
   "cell_type": "code",
   "execution_count": 4,
   "metadata": {},
   "outputs": [],
   "source": [
    "def create_accounting_table(conn, cur):\n",
    "    create_accounting_table_query = (\n",
    "    '''\n",
    "    CREATE TABLE accounting (\n",
    "        data DATE,\n",
    "        reg_ans INT,\n",
    "        cd_conta_contabil INT,\n",
    "        descricao VARCHAR(255),\n",
    "        vl_saldo_final FLOAT\n",
    "        );\n",
    "    '''\n",
    "    )\n",
    "    cur.execute('set datestyle to iso;')\n",
    "    cur.execute(create_accounting_table_query)\n",
    "    conn.commit()\n",
    "    \n",
    "def create_companies_table(conn, cur):\n",
    "    create_companies_table_query = (\n",
    "    '''\n",
    "    CREATE TABLE companies (\n",
    "        reg_ans INT,\n",
    "        cnpj VARCHAR(15),\n",
    "        razao_social VARCHAR(255),\n",
    "        nome_fantasia VARCHAR(255),\n",
    "        modalidade VARCHAR(255),\n",
    "        logradouro VARCHAR(255),\n",
    "        numero VARCHAR(255),\n",
    "        complemento VARCHAR(255),\n",
    "        bairro VARCHAR(255),\n",
    "        cidade VARCHAR(255),\n",
    "        uf VARCHAR(255),\n",
    "        cep VARCHAR(255),\n",
    "        ddd VARCHAR(255),\n",
    "        telefone VARCHAR(255),\n",
    "        fax VARCHAR(255),\n",
    "        email VARCHAR(255),\n",
    "        representante VARCHAR(255),\n",
    "        cargo_representante VARCHAR(255),\n",
    "        data_registro_ans date\n",
    "        );\n",
    "    '''\n",
    "    )\n",
    "    cur.execute('set datestyle to dmy;')\n",
    "    cur.execute(create_companies_table_query)\n",
    "    conn.commit()\n",
    "\n",
    "\n",
    "def create_tables(conn, cur,):\n",
    "    create_accounting_table(conn, cur)\n",
    "    create_companies_table(conn, cur)"
   ]
  },
  {
   "cell_type": "code",
   "execution_count": 5,
   "metadata": {},
   "outputs": [],
   "source": [
    "# only run this if the tables have not been created already\n",
    "create_tables(conn, cur)"
   ]
  },
  {
   "cell_type": "markdown",
   "metadata": {},
   "source": [
    "We now need to read the provided CSVs into the tables."
   ]
  },
  {
   "cell_type": "code",
   "execution_count": 6,
   "metadata": {},
   "outputs": [],
   "source": [
    "def load_csvs(conn, cur, dir, companies_csv):\n",
    "    filenames = [dir + filename for filename in listdir(dir)]\n",
    "    copy_csv_query = (lambda table, filename:\n",
    "    '''COPY {}\n",
    "    FROM \\'{}\\'\n",
    "    DELIMITER \\';\\'\n",
    "    ENCODING \\'latin1\\'\n",
    "    CSV HEADER;\n",
    "    '''.format(table, filename)\n",
    "    )\n",
    "\n",
    "    cur.execute(copy_csv_query('companies', companies_csv))\n",
    "\n",
    "    for filename in filenames:\n",
    "        cur.execute(copy_csv_query('accounting', filename))\n",
    "    conn.commit()"
   ]
  },
  {
   "cell_type": "code",
   "execution_count": 7,
   "metadata": {},
   "outputs": [],
   "source": [
    "# only run this if data has not been loaded\n",
    "# check the filenames\n",
    "dir = '/Users/breno/Documents/intuitive-care/test3/'\n",
    "companies_csv = dir + 'Relatorio_cadop-2.csv'\n",
    "load_csvs(conn, cur, dir + 'processed-data/', companies_csv)"
   ]
  },
  {
   "cell_type": "code",
   "execution_count": 8,
   "metadata": {},
   "outputs": [],
   "source": [
    "def fetch_results(description, start_date, end_date):\n",
    "    query = (\n",
    "    '''\n",
    "    select reg_ans,\n",
    "    sum (vl_saldo_final)\n",
    "    from accounting\n",
    "    where descricao=\\'{}\\'\n",
    "    and data >= \\'{}\\'\n",
    "    and data <  \\'{}\\'\n",
    "    group by reg_ans\n",
    "    order by sum (vl_saldo_final) desc;\n",
    "    '''.format(description, start_date, end_date)\n",
    "    )\n",
    "\n",
    "    cur.execute(query)\n",
    "    results = cur.fetchall()\n",
    "    return results"
   ]
  },
  {
   "cell_type": "code",
   "execution_count": 9,
   "metadata": {},
   "outputs": [],
   "source": [
    "def fetch_companies(results):\n",
    "    tuples = []\n",
    "    for (code, value) in results:\n",
    "        query = (\n",
    "            'select razao_social from companies where reg_ans={};'\n",
    "            .format(code)\n",
    "        )\n",
    "        cur.execute(query)\n",
    "        fetch = cur.fetchone()\n",
    "        name = fetch[0] if fetch else fetch\n",
    "        tuples.append((name, code, value))\n",
    "    return tuples"
   ]
  },
  {
   "cell_type": "code",
   "execution_count": 12,
   "metadata": {},
   "outputs": [
    {
     "output_type": "stream",
     "name": "stdout",
     "text": [
      "Razão Social, Registro ANS, Valor Total\nBRADESCO SAÚDE S.A., 5711, 29238637561.910004\nAMIL ASSISTÊNCIA MÉDICA INTERNACIONAL S.A., 326305, 22239265407.1\nSUL AMERICA COMPANHIA DE SEGURO SAÚDE, 6246, 19134861006.79\nNOTRE DAME INTERMÉDICA SAÚDE S.A., 359017, 8717609226.0\nCAIXA DE ASSISTÊNCIA DOS FUNCIONÁRIOS DO BANCO DO BRASIL, 346659, 6701591952.419999\nCENTRAL NACIONAL UNIMED - COOPERATIVA CENTRAL, 339679, 5532110614.25\nUNIMED-RIO COOPERATIVA DE TRABALHO MEDICO DO RIO DE JANEIRO, 393321, 5449561080.42\nHAPVIDA ASSISTENCIA MEDICA LTDA, 368253, 5296308468.6\nUNIMED BELO HORIZONTE COOPERATIVA DE TRABALHO MÉDICO, 343889, 4305426998.96\nGEAP AUTOGESTÃO EM SAÚDE, 323080, 4262564672.2299995\n"
     ]
    }
   ],
   "source": [
    "# First query: over the last year\n",
    "description = 'EVENTOS/ SINISTROS CONHECIDOS OU AVISADOS  DE ASSISTÊNCIA A SAÚDE MEDICO HOSPITALAR '\n",
    "start_date = '2020-01-01'\n",
    "end_date = '2021-01-01'\n",
    "output_filename = 'query-year.csv'\n",
    "results = fetch_results(description, start_date, end_date)[:10]\n",
    "companies = fetch_companies(results)\n",
    "with open(output_filename, 'w') as f:\n",
    "    s = 'Razão Social, Registro ANS, Valor Total'\n",
    "    print(s)\n",
    "    f.write(s + '\\n')\n",
    "    for company in companies:\n",
    "        s = '{}, {}, {}'.format(*company)\n",
    "        print(s)\n",
    "        f.write(s + '\\n')"
   ]
  },
  {
   "cell_type": "code",
   "execution_count": 13,
   "metadata": {
    "scrolled": true
   },
   "outputs": [
    {
     "output_type": "stream",
     "name": "stdout",
     "text": [
      "Razão Social, Registro ANS, Valor Total\nBRADESCO SAÚDE S.A., 5711, 14689350312.67\nAMIL ASSISTÊNCIA MÉDICA INTERNACIONAL S.A., 326305, 10928531414.16\nSUL AMERICA COMPANHIA DE SEGURO SAÚDE, 6246, 9498661307.98\nNOTRE DAME INTERMÉDICA SAÚDE S.A., 359017, 4402526741.07\nCAIXA DE ASSISTÊNCIA DOS FUNCIONÁRIOS DO BANCO DO BRASIL, 346659, 3337556927.0299997\nCENTRAL NACIONAL UNIMED - COOPERATIVA CENTRAL, 339679, 2770465180.87\nUNIMED-RIO COOPERATIVA DE TRABALHO MEDICO DO RIO DE JANEIRO, 393321, 2754253192.49\nHAPVIDA ASSISTENCIA MEDICA LTDA, 368253, 2629132597.67\nUNIMED BELO HORIZONTE COOPERATIVA DE TRABALHO MÉDICO, 343889, 2211589474.5299997\nGEAP AUTOGESTÃO EM SAÚDE, 323080, 2062436242.9\n"
     ]
    }
   ],
   "source": [
    "# Second query: over the last trimester\n",
    "description = 'EVENTOS/ SINISTROS CONHECIDOS OU AVISADOS  DE ASSISTÊNCIA A SAÚDE MEDICO HOSPITALAR '\n",
    "start_date = '2020-07-01'\n",
    "end_date = '2020-10-01'\n",
    "output_filename = 'query-trimester.csv'\n",
    "results = fetch_results(description, start_date, end_date)[:10]\n",
    "companies = fetch_companies(results)\n",
    "with open(output_filename, 'w') as f:\n",
    "    s = 'Razão Social, Registro ANS, Valor Total'\n",
    "    print(s)\n",
    "    f.write(s + '\\n')\n",
    "    for company in companies:\n",
    "        s = '{}, {}, {}'.format(*company)\n",
    "        print(s)\n",
    "        f.write(s + '\\n')"
   ]
  },
  {
   "cell_type": "code",
   "execution_count": 14,
   "metadata": {},
   "outputs": [],
   "source": [
    "def shutdown(conn, cur):\n",
    "    cur.close()\n",
    "    conn.close()"
   ]
  },
  {
   "cell_type": "code",
   "execution_count": 15,
   "metadata": {},
   "outputs": [],
   "source": [
    "shutdown(conn, cur)"
   ]
  }
 ],
 "metadata": {
  "kernelspec": {
   "name": "python3",
   "display_name": "Python 3.8.2 64-bit",
   "metadata": {
    "interpreter": {
     "hash": "20bf69066c0dd38d51965b69d5e1b6e387082e3198ba56e97997ac55f4e50ad0"
    }
   }
  },
  "language_info": {
   "codemirror_mode": {
    "name": "ipython",
    "version": 3
   },
   "file_extension": ".py",
   "mimetype": "text/x-python",
   "name": "python",
   "nbconvert_exporter": "python",
   "pygments_lexer": "ipython3",
   "version": "3.8.2-final"
  }
 },
 "nbformat": 4,
 "nbformat_minor": 4
}