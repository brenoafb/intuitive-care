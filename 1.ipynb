{
 "cells": [
  {
   "cell_type": "code",
   "execution_count": 27,
   "metadata": {},
   "outputs": [],
   "source": [
    "import re\n",
    "import requests\n",
    "from bs4 import BeautifulSoup"
   ]
  },
  {
   "cell_type": "code",
   "execution_count": 55,
   "metadata": {},
   "outputs": [],
   "source": [
    "base_url = 'http://www.ans.gov.br'\n",
    "page_url = base_url + '/prestadores/tiss-troca-de-informacao-de-saude-suplementar'\n",
    "page = requests.get(page_url)\n",
    "soup = BeautifulSoup(page.content, 'html.parser')"
   ]
  },
  {
   "cell_type": "code",
   "execution_count": 56,
   "metadata": {},
   "outputs": [],
   "source": [
    "header = next(x for x in soup.find_all('h2') if x.string.startswith('Padrão TISS – Versão'))"
   ]
  },
  {
   "cell_type": "code",
   "execution_count": 57,
   "metadata": {},
   "outputs": [
    {
     "data": {
      "text/plain": [
       "<h2>Padrão TISS – Versão Dezembro/2020</h2>"
      ]
     },
     "execution_count": 57,
     "metadata": {},
     "output_type": "execute_result"
    }
   ],
   "source": [
    "header"
   ]
  },
  {
   "cell_type": "code",
   "execution_count": 58,
   "metadata": {},
   "outputs": [],
   "source": [
    "a_tag = header.findNext('a')"
   ]
  },
  {
   "cell_type": "code",
   "execution_count": 59,
   "metadata": {},
   "outputs": [
    {
     "data": {
      "text/plain": [
       "'/prestadores/tiss-troca-de-informacao-de-saude-suplementar/padrao-tiss-dezembro-2020'"
      ]
     },
     "execution_count": 59,
     "metadata": {},
     "output_type": "execute_result"
    }
   ],
   "source": [
    "suffix = a_tag.get('href')\n",
    "suffix"
   ]
  },
  {
   "cell_type": "code",
   "execution_count": 60,
   "metadata": {},
   "outputs": [
    {
     "data": {
      "text/plain": [
       "'http://www.ans.gov.br/prestadores/tiss-troca-de-informacao-de-saude-suplementar/padrao-tiss-dezembro-2020'"
      ]
     },
     "execution_count": 60,
     "metadata": {},
     "output_type": "execute_result"
    }
   ],
   "source": [
    "link = '{}{}'.format(base_url, suffix)\n",
    "link"
   ]
  },
  {
   "cell_type": "code",
   "execution_count": 63,
   "metadata": {},
   "outputs": [],
   "source": [
    "page = requests.get(link)\n",
    "soup = BeautifulSoup(page.content, 'html.parser')"
   ]
  },
  {
   "cell_type": "code",
   "execution_count": 65,
   "metadata": {},
   "outputs": [
    {
     "data": {
      "text/plain": [
       "[<div class=\"table-responsive\">\n",
       " <table class=\"table table-bordered\">\n",
       " <thead class=\"thead-ans\">\n",
       " <tr><th>Arquivos do Padrão TISS</th><th>Versão Vigente</th><th>Documentos</th></tr>\n",
       " </thead>\n",
       " <tbody>\n",
       " <tr>\n",
       " <td>Componente Organizacional</td>\n",
       " <td>202012</td>\n",
       " <td><a class=\"btn btn-primary btn-sm center-block\" href=\"/images/stories/Plano_de_saude_e_Operadoras/tiss/Padrao_tiss/tiss3/Padrao_TISS_Componente_Organizacional__202012.pdf\" target=\"_self\"><span class=\"glyphicon glyphicon-file\"></span> Visualizar anexo <span class=\"esconde\">referente ao Componente Organizacional.</span>(.pdf)</a></td>\n",
       " </tr>\n",
       " <tr>\n",
       " <td>Componente de Conteúdo e Estrutura</td>\n",
       " <td>202005</td>\n",
       " <td><a class=\"btn btn-primary btn-sm center-block\" href=\"/images/stories/Plano_de_saude_e_Operadoras/tiss/Padrao_tiss/tiss3/Padrao_TISS_Componente_de_Conteudo_e_Estrutura_202005.zip\"><span class=\"glyphicon glyphicon-save\"></span> Baixar anexo<span class=\"esconde\"> Componente de Segurança e Privacidade.</span> (.zip)</a></td>\n",
       " </tr>\n",
       " <tr>\n",
       " <td>Componente de Representação de Conceitos em Saúde (Terminologia Unificada da Saúde Suplementar)</td>\n",
       " <td>202012</td>\n",
       " <td><a class=\"btn btn-primary btn-sm center-block\" href=\"/images/stories/Plano_de_saude_e_Operadoras/tiss/Padrao_tiss/tiss3/Padrao_TISS_Representacao_de_Conceitos_em_Saude__202012.zip\"><span class=\"glyphicon glyphicon-save\"></span> Baixar anexo<span class=\"esconde\"> Componente de Representação de Conceitos em Saúde (Terminologia Unificada da Saúde Suplementar).</span> (.zip)</a></td>\n",
       " </tr>\n",
       " <tr>\n",
       " <td>Componente de Segurança e Privacidade</td>\n",
       " <td>201712</td>\n",
       " <td><a class=\"btn btn-primary btn-sm center-block\" href=\"/images/stories/Plano_de_saude_e_Operadoras/tiss/Padrao_tiss/tiss3/Padrao_TISS_Componente de Segurança e Privacidade_201712.zip\"><span class=\"glyphicon glyphicon-save\"></span> Baixar anexo<span class=\"esconde\"> Componente de Segurança e Privacidade.</span> (.zip)</a></td>\n",
       " </tr>\n",
       " <tr>\n",
       " <td>Componente de Comunicação</td>\n",
       " <td>03.05.00 e 01.01.00</td>\n",
       " <td><a class=\"btn btn-primary btn-sm center-block\" href=\"/images/stories/Plano_de_saude_e_Operadoras/tiss/Padrao_tiss/tiss3/padrao_tiss_comunicacao_202004.zip\"><span class=\"glyphicon glyphicon-save\"></span> Baixar anexo<span class=\"esconde\"> Componente de Comunicação.</span> (.zip)</a></td>\n",
       " </tr>\n",
       " </tbody>\n",
       " </table>\n",
       " </div>]"
      ]
     },
     "execution_count": 65,
     "metadata": {},
     "output_type": "execute_result"
    }
   ],
   "source": [
    "class_name = 'table-responsive'\n",
    "divs = soup.findAll(\"div\", {\"class\": class_name})\n",
    "divs"
   ]
  },
  {
   "cell_type": "code",
   "execution_count": 68,
   "metadata": {},
   "outputs": [
    {
     "data": {
      "text/plain": [
       "'/images/stories/Plano_de_saude_e_Operadoras/tiss/Padrao_tiss/tiss3/Padrao_TISS_Componente_Organizacional__202012.pdf'"
      ]
     },
     "execution_count": 68,
     "metadata": {},
     "output_type": "execute_result"
    }
   ],
   "source": [
    "a_tag = divs[0].findNext('a')\n",
    "suffix = a_tag.get('href')\n",
    "suffix"
   ]
  },
  {
   "cell_type": "code",
   "execution_count": 69,
   "metadata": {},
   "outputs": [
    {
     "data": {
      "text/plain": [
       "'http://www.ans.gov.br/images/stories/Plano_de_saude_e_Operadoras/tiss/Padrao_tiss/tiss3/Padrao_TISS_Componente_Organizacional__202012.pdf'"
      ]
     },
     "execution_count": 69,
     "metadata": {},
     "output_type": "execute_result"
    }
   ],
   "source": [
    "link = base_url + '/images/stories/Plano_de_saude_e_Operadoras/tiss/Padrao_tiss/tiss3/Padrao_TISS_Componente_Organizacional__202012.pdf'\n",
    "link"
   ]
  },
  {
   "cell_type": "code",
   "execution_count": 71,
   "metadata": {},
   "outputs": [
    {
     "data": {
      "text/plain": [
       "'Padrao_TISS_Componente_Organizacional__202012.pdf'"
      ]
     },
     "execution_count": 71,
     "metadata": {},
     "output_type": "execute_result"
    }
   ],
   "source": [
    "# https://stackoverflow.com/a/16696317\n",
    "\n",
    "def download_file(url):\n",
    "    local_filename = url.split('/')[-1]\n",
    "    # NOTE the stream=True parameter below\n",
    "    with requests.get(url, stream=True) as r:\n",
    "        r.raise_for_status()\n",
    "        with open(local_filename, 'wb') as f:\n",
    "            for chunk in r.iter_content(chunk_size=8192): \n",
    "                # If you have chunk encoded response uncomment if\n",
    "                # and set chunk_size parameter to None.\n",
    "                #if chunk: \n",
    "                f.write(chunk)\n",
    "    return local_filename\n",
    "\n",
    "download_file(link)"
   ]
  }
 ],
 "metadata": {
  "kernelspec": {
   "display_name": "Python 3",
   "language": "python",
   "name": "python3"
  },
  "language_info": {
   "codemirror_mode": {
    "name": "ipython",
    "version": 3
   },
   "file_extension": ".py",
   "mimetype": "text/x-python",
   "name": "python",
   "nbconvert_exporter": "python",
   "pygments_lexer": "ipython3",
   "version": "3.9.1"
  }
 },
 "nbformat": 4,
 "nbformat_minor": 4
}
